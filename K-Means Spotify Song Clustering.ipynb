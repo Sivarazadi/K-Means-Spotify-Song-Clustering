{
 "cells": [
  {
   "cell_type": "code",
   "execution_count": null,
   "metadata": {},
   "outputs": [],
   "source": [
    "# Import the necessary libraries\n",
    "import pandas as pd\n",
    "import numpy as np\n",
    "\n",
    "# Load the dataset into a Pandas dataframe\n",
    "df = pd.read_csv('spotify.csv')"
   ]
  },
  {
   "cell_type": "code",
   "execution_count": null,
   "metadata": {},
   "outputs": [],
   "source": [
    "# Explore the dataset\n",
    "\n",
    "print(df.head())  # Print the first few rows of the dataframe\n",
    "print(df.describe())   # Print summary statistics for each column\n",
    "print(df.info())   # Print information about the dataframe, including the number of rows and columns, and the data types of each column"
   ]
  },
  {
   "cell_type": "code",
   "execution_count": null,
   "metadata": {},
   "outputs": [],
   "source": [
    "# Preprocess the dataset\n",
    "\n",
    "# Remove any rows with missing or invalid values\n",
    "df.dropna(inplace=True)\n",
    "\n",
    "# Select a subset of columns to use in the clustering process\n",
    "columns_to_use = ['explicit', 'danceability', 'energy', 'key', 'loudness', 'mode', 'speechiness', 'acousticness', 'instrumentalness', 'liveness', 'valence', 'tempo', 'duration_ms', 'year']\n",
    "df = df[columns_to_use]\n",
    "\n",
    "# Normalize the values of each column\n",
    "df = (df - df.mean()) / df.std()"
   ]
  },
  {
   "cell_type": "code",
   "execution_count": null,
   "metadata": {},
   "outputs": [],
   "source": [
    "# Clustering with the K-means algorithm\n",
    "\n",
    "# Import the necessary libraries\n",
    "from sklearn.cluster import KMeans\n",
    "\n",
    "# Decide on the appropriate number of clusters\n",
    "\n",
    "# One way to determine the appropriate number of clusters is to use the elbow method\n",
    "# This involves fitting the model to the data with a range of different numbers of clusters\n",
    "# and then examining the resulting sum of squared distances for each number of clusters\n",
    "\n",
    "sse = []  # Initialize an empty list to store the sum of squared distances for each number of clusters\n",
    "\n",
    "# Fit the KMeans model to the data with a range of different numbers of clusters\n",
    "for k in range(1, 30):\n",
    "    kmeans = KMeans(n_clusters=k)  # Initialize the KMeans model with the current number of clusters\n",
    "    kmeans.fit(df)  # Fit the model to the data\n",
    "    sse.append(kmeans.inertia_)  # Add the sum of squared distances for the current number of clusters to the list\n"
   ]
  },
  {
   "cell_type": "code",
   "execution_count": null,
   "metadata": {},
   "outputs": [],
   "source": [
    "# Import the necessary libraries\n",
    "import matplotlib.pyplot as plt\n",
    "\n",
    "# Plot the sum squared distances for each number of clusters for elbow method\n",
    "\n",
    "plt.plot(range(1, 30), sse)\n",
    "plt.title('Elbow Method for Clustering')\n",
    "plt.xlabel('Number of clusters')\n",
    "plt.ylabel('Sum of squared distances')\n",
    "plt.show()\n"
   ]
  },
  {
   "attachments": {},
   "cell_type": "markdown",
   "metadata": {},
   "source": [
    "<img src='./images/elbow_method.png' style='width:600px;height:500px;'>"
   ]
  },
  {
   "cell_type": "code",
   "execution_count": null,
   "metadata": {},
   "outputs": [],
   "source": [
    "# Fit the clustering model to the preprocessed data\n",
    "\n",
    "# First, we need to decide on the appropriate number of clusters to use\n",
    "# We will use the elbow method, as described in the previous step,\n",
    "# to determine that the appropriate number of clusters is 8\n",
    "\n",
    "kmeans = KMeans(n_clusters=8, random_state=1)  # Initialize the KMeans model with 8 clusters\n",
    "kmeans.fit(df)  # Fit the model to the data"
   ]
  },
  {
   "cell_type": "code",
   "execution_count": null,
   "metadata": {},
   "outputs": [],
   "source": [
    "# Generate the clusters\n",
    "\n",
    "# To generate the clusters with the KMeans algorithm,\n",
    "# we can use the predict() method on the fitted KMeans model\n",
    "\n",
    "clusters = kmeans.predict(df)  # Generate cluster assignments for each data point\n",
    "\n",
    "# Print the cluster assignments for the first few data points\n",
    "print(clusters[:10])"
   ]
  },
  {
   "attachments": {},
   "cell_type": "markdown",
   "metadata": {},
   "source": [
    "[5 4 5 4 5 5 0 1 0 0]"
   ]
  },
  {
   "cell_type": "code",
   "execution_count": null,
   "metadata": {},
   "outputs": [],
   "source": [
    "# Evaluate the quality of the generated clusters\n",
    "\n",
    "# One way to evaluate the quality of the generated clusters is to use the silhouette score\n",
    "# This score measures how similar each data point is to the other data points in its own cluster\n",
    "# compared to the other clusters\n",
    "\n",
    "from sklearn.metrics import silhouette_score\n",
    "\n",
    "silhouette_score(df, clusters)  # Calculate the silhouette score for the generated clusters\n"
   ]
  },
  {
   "attachments": {},
   "cell_type": "markdown",
   "metadata": {},
   "source": [
    "The silhouette score is 0.12484136813463163. A silhouette score close to 0 can indicate that the clusters are not well-defined and that the data points within each cluster are not very similar to each other. This can be due to a variety of factors, but one possibility is that the features you are using to perform the clustering are not sufficiently descriptive of the underlying data.\n",
    "\n",
    "For example, since songs can be in genres and subgenres, it's possible that these labels may not be very informative for certain songs. This is because genres and subgenres can be somewhat interchangeable and may not always accurately reflect the characteristics of a particular song."
   ]
  },
  {
   "cell_type": "code",
   "execution_count": null,
   "metadata": {},
   "outputs": [],
   "source": [
    "# Visualize the generated clusters\n",
    "\n",
    "# To visualize the generated clusters, we will first need to reduce the data to two dimensions\n",
    "# so that we can plot it on a scatter plot\n",
    "\n",
    "import matplotlib.pyplot as plt\n",
    "from sklearn.decomposition import PCA\n",
    "import numpy as np\n",
    "\n",
    "\n",
    "pca = PCA(n_components=2)  # Initialize a PCA model with 2 components\n",
    "df_2d = pca.fit_transform(df)  # Reduce the data to two dimensions using the PCA model\n",
    "\n",
    "# Plot the data points on a scatter plot\n",
    "# Coloring the data points according to their cluster assignment\n",
    "plt.scatter(df_2d[:, 0], df_2d[:, 1], c=clusters)\n",
    "plt.title('Clustering Of Spotify Songs')\n",
    "plt.xlabel('Component 1')\n",
    "plt.ylabel('Component 2')\n",
    "plt.show()"
   ]
  },
  {
   "attachments": {},
   "cell_type": "markdown",
   "metadata": {},
   "source": [
    "<img src='./images/spotify_cluster.png' style='width:600px;height:500px;'>"
   ]
  },
  {
   "cell_type": "code",
   "execution_count": null,
   "metadata": {},
   "outputs": [],
   "source": [
    "# Get the unique cluster assignments\n",
    "unique_clusters = np.unique(clusters)\n",
    "\n",
    "# Create a grid of subplots\n",
    "fig, axs = plt.subplots(nrows=4, ncols=2, figsize=(8, 8), sharex=True, sharey=True)\n",
    "\n",
    "# Flatten the array of subplots to make it easier to iterate over\n",
    "axs = axs.flatten()\n",
    "\n",
    "# Iterate over the clusters\n",
    "for i, cluster in enumerate(unique_clusters):\n",
    "    # Select the data points belonging to the current cluster\n",
    "    df_cluster = df_2d[clusters == cluster]\n",
    "    \n",
    "    # Select the data points belonging to other clusters\n",
    "    df_other_clusters = df_2d[clusters != cluster]\n",
    "    \n",
    "    # Plot the data points belonging to other clusters in gray\n",
    "    axs[i].scatter(df_other_clusters[:, 0], df_other_clusters[:, 1], c='gray', label='Other clusters', alpha=0.5)\n",
    "    \n",
    "    # Plot the data points belonging to the current cluster with a different color\n",
    "    axs[i].scatter(df_cluster[:, 0], df_cluster[:, 1], c='red', label='Cluster {}'.format(cluster))\n",
    "    \n",
    "    # Set the x and y labels for the current subplot\n",
    "    axs[i].set_xlabel('Component 1')\n",
    "    axs[i].set_ylabel('Component 2')\n",
    "    \n",
    "    # Add a legend to the current subplot\n",
    "    axs[i].legend()\n",
    "\n",
    "plt.show()\n"
   ]
  },
  {
   "attachments": {},
   "cell_type": "markdown",
   "metadata": {},
   "source": [
    "<img src='./images/indiv_cluster.png' style='width:500px;height:600px;'>"
   ]
  },
  {
   "cell_type": "code",
   "execution_count": null,
   "metadata": {},
   "outputs": [],
   "source": [
    "# First, let's create a new dataframe with the cluster assignments as a column\n",
    "clustered_df = df.copy()\n",
    "clustered_df['cluster'] = clusters\n",
    "\n",
    "# Now, we can examine the characteristics of the individual clusters\n",
    "# For example, we can group the data by cluster and compute the mean of each column\n",
    "cluster_means = clustered_df.groupby('cluster').mean()\n",
    "print(cluster_means)\n",
    "\n",
    "# We can also compare the clusters to each other by creating a plot of the cluster means\n",
    "# This can help us to see how the clusters differ from each other\n",
    "cluster_means.plot(kind='bar')\n",
    "plt.title('Cluster Characteristics')\n",
    "plt.legend(bbox_to_anchor=(1.0, 1.0))\n",
    "plt.show()"
   ]
  },
  {
   "attachments": {},
   "cell_type": "markdown",
   "metadata": {},
   "source": [
    "<img src='./images/mean_cluster.png' style='width:700px;height:400px;'>"
   ]
  }
 ],
 "metadata": {
  "kernelspec": {
   "display_name": "Python 3",
   "language": "python",
   "name": "python3"
  },
  "language_info": {
   "codemirror_mode": {
    "name": "ipython",
    "version": 3
   },
   "file_extension": ".py",
   "mimetype": "text/x-python",
   "name": "python",
   "nbconvert_exporter": "python",
   "pygments_lexer": "ipython3",
   "version": "3.10.5 (tags/v3.10.5:f377153, Jun  6 2022, 16:14:13) [MSC v.1929 64 bit (AMD64)]"
  },
  "orig_nbformat": 4,
  "vscode": {
   "interpreter": {
    "hash": "9d99d795a8355026be406cf19aa3922dd815f271261243126f21d0f482ffb091"
   }
  }
 },
 "nbformat": 4,
 "nbformat_minor": 2
}
